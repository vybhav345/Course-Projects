{
  "nbformat": 4,
  "nbformat_minor": 0,
  "metadata": {
    "colab": {
      "provenance": []
    },
    "kernelspec": {
      "name": "python3",
      "display_name": "Python 3"
    },
    "language_info": {
      "name": "python"
    }
  },
  "cells": [
    {
      "cell_type": "markdown",
      "source": [
        "#Projectile Motion of Canon Ball\n",
        "\n",
        "> Computing and Visualizing Drag-Affected Projectile\n",
        "\n"
      ],
      "metadata": {
        "id": "79UuwVxR6KBO"
      }
    },
    {
      "cell_type": "markdown",
      "source": [
        "This project simulates the trajectory of a projectile considering the effects of air resistance. Using numerical methods, the program computes the projectile motion and determines the optimal launch angle for maximum range. By solving differential equations governing the motion, it provides a more realistic model compared to idealized motion in a vacuum. The project visualizes the trajectory and analyzes how drag influences the path of projectile."
      ],
      "metadata": {
        "id": "_dMf2kBpiTrv"
      }
    },
    {
      "cell_type": "code",
      "execution_count": null,
      "metadata": {
        "id": "7p0j2TYt5DBu"
      },
      "outputs": [],
      "source": [
        "import numpy as np\n",
        "import matplotlib.pyplot as plt\n",
        "from scipy.integrate import odeint,quad\n",
        "from scipy.integrate import solve_ivp"
      ]
    },
    {
      "cell_type": "markdown",
      "source": [
        "#Dimenstion of Canon ball and surrounding parameters"
      ],
      "metadata": {
        "id": "CXIMRTVylCPs"
      }
    },
    {
      "cell_type": "code",
      "source": [
        "g=9.81       # Acceleration due to gravity in m/s2\n",
        "m=5          # Mass of canon ball in kg\n",
        "V=100        # Initial velocity of canon ball in m/s\n",
        "d=0.1143     # Diameter of canon ball in m\n",
        "cd = 0.5     # Coefficient of drag of spherical bodies\n",
        "rho = 1.2    # Density of air in kg/m3\n",
        "A=(np.pi)*(d**2)/4\n",
        "print('Area of canon ball in m2 is:',A)"
      ],
      "metadata": {
        "colab": {
          "base_uri": "https://localhost:8080/"
        },
        "id": "sm3N6FXC6BdW",
        "outputId": "c575039e-e783-48be-bda1-8b4be0b7dd4b"
      },
      "execution_count": null,
      "outputs": [
        {
          "output_type": "stream",
          "name": "stdout",
          "text": [
            "Area of canon ball in m2 is: 0.010260826451724329\n"
          ]
        }
      ]
    },
    {
      "cell_type": "code",
      "source": [
        "P=-(rho*cd*A*V)/2*m     # Defining a variable for simplicity\n",
        "ang = 60*np.pi/180      # Initial angle of projectile in radian"
      ],
      "metadata": {
        "id": "nY2uJdjnGMQX"
      },
      "execution_count": null,
      "outputs": []
    },
    {
      "cell_type": "markdown",
      "source": [
        "#Without drag"
      ],
      "metadata": {
        "id": "bAGkRWpAs0ry"
      }
    },
    {
      "cell_type": "code",
      "source": [
        "def dSdt(t,S):          # Without drag\n",
        "    x, u, y, v = S\n",
        "    return [u,0,v,-g]\n",
        "\n",
        "sol2 = solve_ivp(dSdt, [0, 20], y0=[0,V*np.cos(ang),0,V*np.sin(ang)], t_eval=np.linspace(0,20,1000))\n",
        "\n",
        "plt.figure()\n",
        "plt.plot(sol2.y[0],sol2.y[2])\n",
        "plt.ylim(bottom=0)\n",
        "plt.xlabel('x')\n",
        "plt.ylabel('y')\n",
        "plt.title('Projectile motion without drag')"
      ],
      "metadata": {
        "colab": {
          "base_uri": "https://localhost:8080/",
          "height": 312
        },
        "id": "MCcAhL_Rjigy",
        "outputId": "933cb7e4-2e5f-4033-f8a7-a7b72de76c93"
      },
      "execution_count": null,
      "outputs": [
        {
          "output_type": "execute_result",
          "data": {
            "text/plain": [
              "Text(0.5, 1.0, 'Projectile motion without drag')"
            ]
          },
          "metadata": {},
          "execution_count": 155
        },
        {
          "output_type": "display_data",
          "data": {
            "text/plain": [
              "<Figure size 432x288 with 1 Axes>"
            ],
            "image/png": "[encoded data removed]"
          },
          "metadata": {
            "needs_background": "light"
          }
        }
      ]
    },
    {
      "cell_type": "markdown",
      "source": [
        "#With drag"
      ],
      "metadata": {
        "id": "lK9O7Mnss617"
      }
    },
    {
      "cell_type": "code",
      "source": [
        "def dsdt(t,S,P):         #With drag\n",
        "    x, u, y, v = S\n",
        "    return [u,P*u,v,-g+P*v]\n",
        "\n",
        "sol1 = solve_ivp(dsdt, [0, 20], y0=[0,V*np.cos(ang),0,V*np.sin(ang)], t_eval=np.linspace(0,20,1000), args=(P,))\n",
        "\n",
        "plt.figure()\n",
        "plt.plot(sol1.y[0], sol1.y[2] ,'--r')\n",
        "plt.ylim(bottom=0)\n",
        "plt.xlabel('x')\n",
        "plt.ylabel('y')\n",
        "plt.title('Projectile motion with drag')"
      ],
      "metadata": {
        "id": "Vre674J9GvqO",
        "colab": {
          "base_uri": "https://localhost:8080/",
          "height": 312
        },
        "outputId": "ee86a733-78ea-488b-aa39-b41ad15bebb9"
      },
      "execution_count": null,
      "outputs": [
        {
          "output_type": "execute_result",
          "data": {
            "text/plain": [
              "Text(0.5, 1.0, 'Projectile motion with drag')"
            ]
          },
          "metadata": {},
          "execution_count": 156
        },
        {
          "output_type": "display_data",
          "data": {
            "text/plain": [
              "<Figure size 432x288 with 1 Axes>"
            ],
            "image/png": "[encoded data removed]"
          },
          "metadata": {
            "needs_background": "light"
          }
        }
      ]
    },
    {
      "cell_type": "markdown",
      "source": [
        "# Plot between Range and angles"
      ],
      "metadata": {
        "id": "KWuXmGkdt7Bb"
      }
    },
    {
      "cell_type": "code",
      "source": [
        "def range(ang, P):\n",
        "    sol = solve_ivp(dsdt, [0, 20], y0=[0,V*np.cos(ang*np.pi/180),0,V*np.sin(ang*np.pi/180)], t_eval=np.linspace(0,20,1000), args=(P,))\n",
        "    just_above_index = np.where(np.diff(np.sign(sol.y[2])) < 0)[0][0] #finding the postion of x where it crosses the origin i.e. y value becomes negative\n",
        "    just_below_index = just_above_index + 1\n",
        "    x_range = (sol.y[0][just_above_index] + sol.y[0][just_below_index])/2 #averaging the distance with positive y value location and neagtive y value location just nearby\n",
        "    return x_range"
      ],
      "metadata": {
        "id": "JY3v8KulvQld"
      },
      "execution_count": null,
      "outputs": []
    },
    {
      "cell_type": "code",
      "source": [
        "ang = np.linspace(0, 90, 100)\n",
        "x_range = np.vectorize(range)(ang,P)\n",
        "\n",
        "plt.figure()\n",
        "plt.plot(ang, x_range, '-.g')\n",
        "plt.ylim(bottom=0)\n",
        "plt.xlabel('Angles in degree')\n",
        "plt.ylabel('Range')\n",
        "plt.title('Range vs Angles')"
      ],
      "metadata": {
        "id": "DRHr-yCtH7On",
        "colab": {
          "base_uri": "https://localhost:8080/",
          "height": 312
        },
        "outputId": "5f56fe41-174d-4125-b0f6-3129cfa33cbb"
      },
      "execution_count": null,
      "outputs": [
        {
          "output_type": "execute_result",
          "data": {
            "text/plain": [
              "Text(0.5, 1.0, 'Range vs Angles')"
            ]
          },
          "metadata": {},
          "execution_count": 158
        },
        {
          "output_type": "display_data",
          "data": {
            "text/plain": [
              "<Figure size 432x288 with 1 Axes>"
            ],
            "image/png": "[encoded data removed]"
          },
          "metadata": {
            "needs_background": "light"
          }
        }
      ]
    },
    {
      "cell_type": "markdown",
      "source": [
        "# Finding angle corresponding to maximum distance (range)"
      ],
      "metadata": {
        "id": "J1_x0hdx4AKS"
      }
    },
    {
      "cell_type": "code",
      "source": [
        "max_dist = max(x_range) #Maximum Range with drag\n",
        "print('The maximum range for canon ball is', max_dist,'meters')"
      ],
      "metadata": {
        "colab": {
          "base_uri": "https://localhost:8080/"
        },
        "id": "urA1oeC3IStm",
        "outputId": "cd5faa91-66ec-406b-ead1-b8701f7909d6"
      },
      "execution_count": null,
      "outputs": [
        {
          "output_type": "stream",
          "name": "stdout",
          "text": [
            "The maximum range for canon ball is 62.58869650267585 meters\n"
          ]
        }
      ]
    },
    {
      "cell_type": "code",
      "source": [
        "angle_range = np.column_stack((ang, x_range))\n",
        "print(angle_range[angle_range[:,1] == max(angle_range[:,1])]) #angle corresponding to max range"
      ],
      "metadata": {
        "colab": {
          "base_uri": "https://localhost:8080/"
        },
        "id": "1AXBbiEj4lpE",
        "outputId": "e15a6efa-2609-49f6-b036-13ad137166de"
      },
      "execution_count": null,
      "outputs": [
        {
          "output_type": "stream",
          "name": "stdout",
          "text": [
            "[[12.72727273 62.5886965 ]]\n"
          ]
        }
      ]
    },
    {
      "cell_type": "code",
      "source": [
        "#Plotting the trajectory with initial angle case\n",
        "\n",
        "ang = 12.72727273\n",
        "sol_extreme = solve_ivp(dsdt, [0, 20], y0=[0,V*np.cos(ang*np.pi/180),0,V*np.sin(ang*np.pi/180)], t_eval=np.linspace(0,20,1000), args=(P,))\n",
        "\n",
        "plt.figure()\n",
        "plt.plot(sol1.y[0], sol1.y[2] ,'--r')\n",
        "plt.plot(sol_extreme.y[0], sol_extreme.y[2],'--b')\n",
        "plt.ylim(0)\n",
        "plt.xlabel('x')\n",
        "plt.ylabel('y')\n",
        "plt.title('Projectile motion with drag for different angles')\n",
        "plt.legend(['$\\\\theta$= 60', '$\\\\theta$ = 12.73 (w.r.t max range)']) #angles in degrees"
      ],
      "metadata": {
        "colab": {
          "base_uri": "https://localhost:8080/",
          "height": 312
        },
        "id": "y5FGpNoa5lBt",
        "outputId": "8a50f652-d6cb-4e5f-9248-b1ff6bfa29db"
      },
      "execution_count": null,
      "outputs": [
        {
          "output_type": "execute_result",
          "data": {
            "text/plain": [
              "<matplotlib.legend.Legend at 0x7fbf2383cd10>"
            ]
          },
          "metadata": {},
          "execution_count": 161
        },
        {
          "output_type": "display_data",
          "data": {
            "text/plain": [
              "<Figure size 432x288 with 1 Axes>"
            ],
            "image/png": "[encoded data removed]"
          },
          "metadata": {
            "needs_background": "light"
          }
        }
      ]
    }
  ]
}